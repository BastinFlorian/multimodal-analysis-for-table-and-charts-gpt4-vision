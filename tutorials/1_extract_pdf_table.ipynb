{
 "cells": [
  {
   "cell_type": "markdown",
   "metadata": {},
   "source": [
    "# Extract a PDF table\n",
    "\n",
    "- Unstructured uses PyPDF and Python-pptx to extract the text from the documents.\n",
    "- Two format (images, and text)\n",
    "\n",
    "For information, these two libraries give slightly different results.\n",
    "\n",
    "## Data \n",
    "\n",
    "A table from a PDF document in two format.\n",
    "\n",
    "The table is the following:\n",
    "\n",
    "\n",
    "![table](../docs/images/figure1.png)\n",
    "\n",
    "\n",
    "**Our mission:**\n",
    "\n",
    "Extract the structured informations from this table "
   ]
  },
  {
   "cell_type": "code",
   "execution_count": 2,
   "metadata": {},
   "outputs": [],
   "source": [
    "import sys\n",
    "sys.path.append('../')"
   ]
  },
  {
   "cell_type": "code",
   "execution_count": 3,
   "metadata": {},
   "outputs": [],
   "source": [
    "from config.llm import GPT_4\n",
    "from utils import pretty_print_element, ask_question\n",
    "from unstructured.partition.pdf import partition_pdf"
   ]
  },
  {
   "cell_type": "code",
   "execution_count": 4,
   "metadata": {},
   "outputs": [],
   "source": [
    "pdf_path = \"../data/pdf/table.pdf\""
   ]
  },
  {
   "cell_type": "markdown",
   "metadata": {},
   "source": [
    "The PDF contains two tables: \n",
    "- One is image based\n",
    "- The other is text based\n",
    "\n",
    "![table_image](../docs/images/pdf_table.png)"
   ]
  },
  {
   "cell_type": "code",
   "execution_count": 5,
   "metadata": {},
   "outputs": [
    {
     "name": "stderr",
     "output_type": "stream",
     "text": [
      "Some weights of the model checkpoint at microsoft/table-transformer-structure-recognition were not used when initializing TableTransformerForObjectDetection: ['model.backbone.conv_encoder.model.layer2.0.downsample.1.num_batches_tracked', 'model.backbone.conv_encoder.model.layer3.0.downsample.1.num_batches_tracked', 'model.backbone.conv_encoder.model.layer4.0.downsample.1.num_batches_tracked']\n",
      "- This IS expected if you are initializing TableTransformerForObjectDetection from the checkpoint of a model trained on another task or with another architecture (e.g. initializing a BertForSequenceClassification model from a BertForPreTraining model).\n",
      "- This IS NOT expected if you are initializing TableTransformerForObjectDetection from the checkpoint of a model that you expect to be exactly identical (initializing a BertForSequenceClassification model from a BertForSequenceClassification model).\n"
     ]
    }
   ],
   "source": [
    "elements = partition_pdf(\n",
    "    filename=pdf_path,\n",
    "    infer_table_structure=True,\n",
    "    strategy=\"hi_res\",\n",
    "    include_page_breaks=True,\n",
    "    chunking_strategy='auto',\n",
    ")"
   ]
  },
  {
   "cell_type": "markdown",
   "metadata": {},
   "source": [
    "## Detect elements\n",
    "\n",
    "Unstructured detect the table using OCR and extract the text from the table.\n",
    "It also provides and HTML output"
   ]
  },
  {
   "cell_type": "code",
   "execution_count": 6,
   "metadata": {},
   "outputs": [
    {
     "name": "stdout",
     "output_type": "stream",
     "text": [
      "-------- Element --------\n",
      "Element type: <class 'unstructured.documents.elements.Title'>\n",
      "Element text: Table format ingestion\n",
      "-------- Element --------\n",
      "Element type: <class 'unstructured.documents.elements.PageBreak'>\n",
      "Element text: \n",
      "-------- Element --------\n",
      "Element type: <class 'unstructured.documents.elements.Header'>\n",
      "Element text: Tableau\n",
      "-------- Element --------\n",
      "Element type: <class 'unstructured.documents.elements.Table'>\n",
      "Element text: Provider Model GPT-4 (8K) (Azure) OpenAI GPT-4 Turbo GPT-3.5-turbo Google Vertex AI Gemini Pro 1 token ~= 4 chars PaLM 2 input price per 1k Token $0.03000 $0.01000 $0.00050 $0.00100 $0.00200 output price per 1K Token $0.06000 $0.03000 $0.00150 $0.00200 $0.00200 input price per 1M Token $30.00 $10.00 $0.50 $1.00 $2.00 output price per 1M Token $60.00 $30.00 $1.50 $2.00 $2.00\n",
      "HTML table: <table><thead><th>. Provider</th><th>Model</th><th>input price per 1k Token |</th><th>output price per 1K Token</th><th>input price | | per 1M Token</th><th>output price per 1M Token</th></thead><tr><td rowspan=\"3\">(Azure) OpenAl</td><td>GPT-4 (8K)</td><td>0.03000</td><td>0.06000</td><td>$30.00</td><td>$60.00</td></tr><tr><td></td><td>GPT-4 Turbo</td><td>0.01000</td><td>0.03000</td><td>$10.00</td><td>$30.00</td></tr><tr><td></td><td>GPT-3.5-turbo</td><td>0.00050</td><td>0.00150</td><td>0.50</td><td>1.50</td></tr><tr><td>Google Vertex Al</td><td>Gemini Pro</td><td>0.00100</td><td>0.00200</td><td>1.00</td><td>2.00</td></tr><tr><td>1 token ~= 4 chars</td><td>PaLM 2</td><td>0.00200</td><td>0.00200</td><td>2.00</td><td>2.00</td></tr></table>\n",
      "-------- Element --------\n",
      "Element type: <class 'unstructured.documents.elements.PageBreak'>\n",
      "Element text: \n",
      "-------- Element --------\n",
      "Element type: <class 'unstructured.documents.elements.Header'>\n",
      "Element text: Image\n",
      "-------- Element --------\n",
      "Element type: <class 'unstructured.documents.elements.Image'>\n",
      "Element text: 5 input price output price input price | output price per rover Witstel per 1k Token | per 1K Token | per 1M Token 1M Token GPT-4 (8K) $0.03000 $0.06000 $30.00 $60.00 GPT-4 Turbo $0.01000 $0.03000 $10.00 $30.00 (Azure) OpenAl GPT-3.5-turbo $0.00050 $0.00150 $0.50 $1.50 Gemini Pro $0.00100 $0.00200 $1.00 $2.00 PaLM 2 $0.00200 $0.00200 $2.00 $2.00 Google Vertex Al 1 token ~= 4 chars\n"
     ]
    }
   ],
   "source": [
    "for element in elements:\n",
    "    pretty_print_element(element)"
   ]
  },
  {
   "cell_type": "markdown",
   "metadata": {},
   "source": [
    "The output for the **text based table** HTML looks like: \n",
    "\n",
    "<table><thead><th>. Provider</th><th>Model</th><th>input price per 1k Token |</th><th>output price per 1K Token</th><th>input price | | per 1M Token</th><th>output price per 1M Token</th></thead><tr><td rowspan=\"3\">(Azure) OpenAl</td><td>GPT-4 (8K)</td><td>0.03000</td><td>0.06000</td><td>$30.00</td><td>$60.00</td></tr><tr><td></td><td>GPT-4 Turbo</td><td>0.01000</td><td>0.03000</td><td>$10.00</td><td>$30.00</td></tr><tr><td></td><td>GPT-3.5-turbo</td><td>0.00050</td><td>0.00150</td><td>0.50</td><td>1.50</td></tr><tr><td>Google Vertex Al</td><td>Gemini Pro</td><td>0.00100</td><td>0.00200</td><td>1.00</td><td>2.00</td></tr><tr><td>1 token ~= 4 chars</td><td>PaLM 2</td><td>0.00200</td><td>0.00200</td><td>2.00</td><td>2.00</td></tr></table>\n",
    "\n",
    "The corresponding text is: \n",
    "\n",
    "```\n",
    "Provider Model GPT-4 (8K) (Azure) OpenAI GPT-4 Turbo GPT-3.5-turbo Google Vertex AI Gemini Pro 1 token ~= 4 chars PaLM 2 input price per 1k Token $0.03000 $0.01000 $0.00050 $0.00100 $0.00200 output price per 1K Token $0.06000 $0.03000 $0.00150 $0.00200 $0.00200 input price per 1M Token $30.00 $10.00 $0.50 $1.00 $2.00 output price per 1M Token $60.00 $30.00 $1.50 $2.00 $2.00\n",
    "```\n",
    "\n",
    "-------- \n",
    "\n",
    "The output for the **image based table** OCR text is:\n",
    "\n",
    "```\n",
    "5 input price output price input price | output price per rover Witstel per 1k Token | per 1K Token | per 1M Token 1M Token GPT-4 (8K) $0.03000 $0.06000 $30.00 $60.00 GPT-4 Turbo $0.01000 $0.03000 $10.00 $30.00 (Azure) OpenAl GPT-3.5-turbo $0.00050 $0.00150 $0.50 $1.50 Gemini Pro $0.00100 $0.00200 $1.00 $2.00 PaLM 2 $0.00200 $0.00200 $2.00 $2.00 Google Vertex Al 1 token ~= 4 chars\n",
    "```"
   ]
  },
  {
   "cell_type": "markdown",
   "metadata": {},
   "source": [
    "## Extraction conclusion \n",
    "\n",
    "- Extracting a table from a PDF is possible only if the table is in table format. \n",
    "- If the table is in image format, the OCR is used but the result is not perfect.\n",
    "- Rewriting the HTML table using GPT-4 could be a better solution than using a deterministic approach such as Pandas or BeautifulSoup\n",
    "- The usage of multimodal could be a solution to extract the table from the image format.\n",
    "\n",
    "Notes: \n",
    "\n",
    "- The table extraction for a PDF file is made with PyPDF library and Tesseract. It can be adjusted by the `hi_res_model_name` parameter."
   ]
  },
  {
   "cell_type": "markdown",
   "metadata": {},
   "source": [
    "# GPT 4 - Answer from table "
   ]
  },
  {
   "cell_type": "code",
   "execution_count": 7,
   "metadata": {},
   "outputs": [
    {
     "name": "stderr",
     "output_type": "stream",
     "text": [
      "/Users/florian.bastin/miniconda3/envs/.multi_venv/lib/python3.11/site-packages/langchain_openai/chat_models/base.py:299: UserWarning: WARNING! kawargs is not default parameter.\n",
      "                    kawargs was transferred to model_kwargs.\n",
      "                    Please confirm that kawargs is what you intended.\n",
      "  warnings.warn(\n"
     ]
    }
   ],
   "source": [
    "question = \"Peux-tu trier les LLM des cloud Azure et GCP selon leur coûts par milliers de token ?\"\n",
    "\n",
    "prompt_text_with_html_input = \"\"\"With the following informations:\n",
    "    ----------\n",
    "    {extracted_table}\n",
    "    ----------\n",
    "    Answer the following question:\n",
    "    ----------\n",
    "    {question}\n",
    "    ----------\n",
    "    \"\"\""
   ]
  },
  {
   "cell_type": "markdown",
   "metadata": {},
   "source": [
    "## Text based table\n",
    "### Using the HTML format from the text based table"
   ]
  },
  {
   "cell_type": "code",
   "execution_count": 8,
   "metadata": {},
   "outputs": [],
   "source": [
    "html_formated_table = \"\"\"\n",
    "    <table><thead><th>. Provider</th><th>Model</th><th>input price per 1k Token |</th><th>output price per 1K Token</th><th>input price | | per 1M Token</th><th>output price per 1M Token</th></thead><tr><td rowspan=\"3\">(Azure) OpenAl</td><td>GPT-4 (8K)</td><td>0.03000</td><td>0.06000</td><td>$30.00</td><td>$60.00</td>\n",
    "    </tr><tr><td></td><td>GPT-4 Turbo</td><td>0.01000</td><td>0.03000</td><td>$10.00</td><td>$30.00</td></tr><tr><td></td><td>GPT-3.5-turbo</td>\n",
    "    <td>0.00050</td><td>0.00150</td><td>0.50</td><td>1.50</td></tr><tr><td>Google Vertex Al</td><td>Gemini Pro</td>\n",
    "    <td>0.00100</td><td>0.00200</td><td>1.00</td><td>2.00</td></tr><tr><td>1 token ~= 4 chars</td><td>PaLM 2</td><td>0.00200</td>\n",
    "    <td>0.00200</td><td>2.00</td><td>2.00</td></tr></table>\n",
    "\"\"\""
   ]
  },
  {
   "cell_type": "code",
   "execution_count": 9,
   "metadata": {},
   "outputs": [
    {
     "name": "stdout",
     "output_type": "stream",
     "text": [
      "Voici les LLM des cloud Azure et GCP triés par coût par milliers de token, du moins cher au plus cher :\n",
      "\n",
      "1. GPT-3.5-turbo (Azure) : 0.00050$ en entrée, 0.00150$ en sortie\n",
      "2. Gemini Pro (Google Vertex AI) : 0.00100$ en entrée, 0.00200$ en sortie\n",
      "3. PaLM 2 (1 token ~= 4 chars) : 0.00200$ en entrée, 0.00200$ en sortie\n",
      "4. GPT-4 Turbo (Azure) : 0.01000$ en entrée, 0.03000$ en sortie\n",
      "5. GPT-4 (8K) (Azure) : 0.03000$ en entrée, 0.06000$ en sortie\n"
     ]
    }
   ],
   "source": [
    "answer = ask_question(\n",
    "    llm=GPT_4,\n",
    "    prompt_text=prompt_text_with_html_input,\n",
    "    extracted_table=html_formated_table,\n",
    "    question=question\n",
    ")\n",
    "\n",
    "print(answer)"
   ]
  },
  {
   "cell_type": "markdown",
   "metadata": {},
   "source": [
    "### Using the extracted text from the text based table"
   ]
  },
  {
   "cell_type": "code",
   "execution_count": 10,
   "metadata": {},
   "outputs": [],
   "source": [
    "text_based_extracted_table = \"\"\"Provider Model GPT-4 (8K) (Azure) OpenAI GPT-4 Turbo GPT-3.5-turbo Google Vertex AI Gemini Pro 1 token ~= 4 chars PaLM 2 input price per 1k Token $0.03000 $0.01000 $0.00050 $0.00100 $0.00200 output price per 1K Token $0.06000 $0.03000 $0.00150 $0.00200 $0.00200 input price per 1M Token $30.00 $10.00 $0.50 $1.00 $2.00 output price per 1M Token $60.00 $30.00 $1.50 $2.00 $2.00\"\"\""
   ]
  },
  {
   "cell_type": "code",
   "execution_count": 11,
   "metadata": {},
   "outputs": [
    {
     "name": "stdout",
     "output_type": "stream",
     "text": [
      "Selon les informations fournies, voici le classement des modèles de Language Learning Model (LLM) des fournisseurs cloud Azure et Google Cloud Platform (GCP) en fonction de leur coût par millier de tokens :\n",
      "\n",
      "1. Google Vertex AI Gemini Pro : $2.00 pour 1M de tokens en entrée et $2.00 pour 1M de tokens en sortie.\n",
      "2. Azure GPT-4 (8K) : $30.00 pour 1M de tokens en entrée et $60.00 pour 1M de tokens en sortie.\n",
      "\n",
      "Notez que le coût est basé sur le total des coûts d'entrée et de sortie.\n"
     ]
    }
   ],
   "source": [
    "answer = ask_question(\n",
    "    llm=GPT_4,\n",
    "    prompt_text=prompt_text_with_html_input,\n",
    "    extracted_table=text_based_extracted_table,\n",
    "    question=question\n",
    ")\n",
    "\n",
    "print(answer)"
   ]
  },
  {
   "cell_type": "markdown",
   "metadata": {},
   "source": [
    "The answer is not valid because the structure is lost"
   ]
  },
  {
   "cell_type": "markdown",
   "metadata": {},
   "source": [
    "## Image based table\n",
    "### Using the OCR extracted text from the table image"
   ]
  },
  {
   "cell_type": "code",
   "execution_count": 12,
   "metadata": {},
   "outputs": [],
   "source": [
    "ocr_extracted_text = \"\"\"5 input price output price input price | output price per rover Witstel per 1k Token | per 1K Token | per 1M Token 1M Token GPT-4 (8K) $0.03000 $0.06000 $30.00 $60.00 GPT-4 Turbo $0.01000 $0.03000 $10.00 $30.00 (Azure) OpenAl GPT-3.5-turbo $0.00050 $0.00150 $0.50 $1.50 Gemini Pro $0.00100 $0.00200 $1.00 $2.00 PaLM 2 $0.00200 $0.00200 $2.00 $2.00 Google Vertex Al 1 token ~= 4 chars\"\"\""
   ]
  },
  {
   "cell_type": "code",
   "execution_count": 13,
   "metadata": {},
   "outputs": [
    {
     "name": "stdout",
     "output_type": "stream",
     "text": [
      "Selon les informations fournies, le classement des LLM des cloud Azure et GCP selon leur coût par millier de tokens est le suivant :\n",
      "\n",
      "1. OpenAI GPT-3.5-turbo (Azure) : $0.50 par 1K Token\n",
      "2. Gemini Pro : $1.00 par 1K Token\n",
      "3. PaLM 2 : $2.00 par 1K Token\n",
      "4. GPT-4 Turbo : $10.00 par 1K Token\n",
      "5. GPT-4 (8K) : $30.00 par 1K Token\n"
     ]
    }
   ],
   "source": [
    "answer = ask_question(\n",
    "    llm=GPT_4,\n",
    "    prompt_text=prompt_text_with_html_input,\n",
    "    extracted_table=ocr_extracted_text,\n",
    "    question=question\n",
    ")\n",
    "\n",
    "print(answer)"
   ]
  },
  {
   "cell_type": "markdown",
   "metadata": {},
   "source": [
    "## Conclusion \n",
    "\n",
    "- Use the HTML format of the table if possible \n",
    "- The OCR is not perfect and the result is not valid\n",
    "\n",
    "![Summary](../docs/images/figure2.png)"
   ]
  }
 ],
 "metadata": {
  "kernelspec": {
   "display_name": "multim_venv",
   "language": "python",
   "name": "multim_venv"
  },
  "language_info": {
   "codemirror_mode": {
    "name": "ipython",
    "version": 3
   },
   "file_extension": ".py",
   "mimetype": "text/x-python",
   "name": "python",
   "nbconvert_exporter": "python",
   "pygments_lexer": "ipython3",
   "version": "3.11.8"
  }
 },
 "nbformat": 4,
 "nbformat_minor": 2
}
