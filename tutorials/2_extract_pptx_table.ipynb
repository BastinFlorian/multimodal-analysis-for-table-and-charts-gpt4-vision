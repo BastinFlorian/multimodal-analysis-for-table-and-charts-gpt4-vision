{
 "cells": [
  {
   "cell_type": "markdown",
   "metadata": {},
   "source": [
    "# Extract a PPTX table\n",
    "\n",
    "- Unstructured uses Python-pptx to extract the text from the documents.\n",
    "- Two format (images, and text)\n",
    "\n",
    "For information, these two libraries give slightly different results.\n",
    "\n",
    "## Data \n",
    "\n",
    "A table from a PPTX document in two format.\n",
    "\n",
    "The table is the following:\n",
    "\n",
    "\n",
    "![table](../docs/images/figure1.png)\n",
    "\n",
    "\n",
    "**Our mission:**\n",
    "\n",
    "Extract the structured informations from this table "
   ]
  },
  {
   "cell_type": "code",
   "execution_count": 2,
   "metadata": {},
   "outputs": [],
   "source": [
    "import sys\n",
    "sys.path.append('../')"
   ]
  },
  {
   "cell_type": "code",
   "execution_count": 3,
   "metadata": {},
   "outputs": [],
   "source": [
    "from unstructured.partition.pptx import partition_pptx\n",
    "from utils import pretty_print_element"
   ]
  },
  {
   "cell_type": "code",
   "execution_count": 4,
   "metadata": {},
   "outputs": [],
   "source": [
    "pptx_path = \"../data/pptx/table.pptx\""
   ]
  },
  {
   "cell_type": "markdown",
   "metadata": {},
   "source": [
    "The PPTX contains two tables: \n",
    "- One is image based\n",
    "- The other is text based\n",
    "\n",
    "![table_image](../docs/images/pdf_table.png)"
   ]
  },
  {
   "cell_type": "code",
   "execution_count": 6,
   "metadata": {},
   "outputs": [],
   "source": [
    "elements = partition_pptx(\n",
    "    filename=pptx_path,\n",
    "    infer_table_structure=True,\n",
    "    strategy=\"hi_res\",\n",
    "    include_page_breaks=True,\n",
    "    chunking_strategy='auto',\n",
    ")"
   ]
  },
  {
   "cell_type": "markdown",
   "metadata": {},
   "source": [
    "## Detect elements\n",
    "\n",
    "Unstructured detect the table using OCR and extract the text from the table.\n",
    "It also provides and HTML output"
   ]
  },
  {
   "cell_type": "code",
   "execution_count": 7,
   "metadata": {},
   "outputs": [
    {
     "name": "stdout",
     "output_type": "stream",
     "text": [
      "-------- Element --------\n",
      "Element type: <class 'unstructured.documents.elements.Title'>\n",
      "Element text: Table format ingestion\n",
      "-------- Element --------\n",
      "Element type: <class 'unstructured.documents.elements.PageBreak'>\n",
      "Element text: \n",
      "-------- Element --------\n",
      "Element type: <class 'unstructured.documents.elements.Title'>\n",
      "Element text: Tableau\n",
      "-------- Element --------\n",
      "Element type: <class 'unstructured.documents.elements.Table'>\n",
      "Element text: Provider            Model          input price per 1k Token    output price per 1K Token    input price per 1M Token    output price per 1M Token\n",
      "(Azure)             GPT-4 (8K)     $0.03000                    $0.06000                     $30.00                      $60.00\n",
      "OpenAI\n",
      "                    GPT-4 Turbo    $0.01000                    $0.03000                     $10.00                      $30.00\n",
      "                    GPT-3.5-turbo  $0.00050                    $0.00150                     $0.50                       $1.50\n",
      "Google Vertex AI    Gemini Pro     $0.00100                    $0.00200                     $1.00                       $2.00\n",
      "\n",
      "1 token ~= 4 chars\n",
      "                    PaLM 2         $0.00200                    $0.00200                     $2.00                       $2.00\n",
      "HTML table: <table>\n",
      "<thead>\n",
      "<tr><th>Provider  </th><th>Model        </th><th>input price per 1k Token  </th><th>output price per 1K Token  </th><th>input price per 1M Token  </th><th>output price per 1M Token  </th></tr>\n",
      "</thead>\n",
      "<tbody>\n",
      "<tr><td>(Azure)\n",
      "OpenAI           </td><td>GPT-4 (8K)   </td><td>$0.03000                  </td><td>$0.06000                   </td><td>$30.00                    </td><td>$60.00                     </td></tr>\n",
      "<tr><td>          </td><td>GPT-4 Turbo  </td><td>$0.01000                  </td><td>$0.03000                   </td><td>$10.00                    </td><td>$30.00                     </td></tr>\n",
      "<tr><td>          </td><td>GPT-3.5-turbo</td><td>$0.00050                  </td><td>$0.00150                   </td><td>$0.50                     </td><td>$1.50                      </td></tr>\n",
      "<tr><td>Google Vertex AI\n",
      "\n",
      "1 token ~= 4 chars           </td><td>Gemini Pro   </td><td>$0.00100                  </td><td>$0.00200                   </td><td>$1.00                     </td><td>$2.00                      </td></tr>\n",
      "<tr><td>          </td><td>PaLM 2       </td><td>$0.00200                  </td><td>$0.00200                   </td><td>$2.00                     </td><td>$2.00                      </td></tr>\n",
      "</tbody>\n",
      "</table>\n",
      "-------- Element --------\n",
      "Element type: <class 'unstructured.documents.elements.PageBreak'>\n",
      "Element text: \n",
      "-------- Element --------\n",
      "Element type: <class 'unstructured.documents.elements.Title'>\n",
      "Element text: Image\n"
     ]
    }
   ],
   "source": [
    "for element in elements:\n",
    "    pretty_print_element(element)"
   ]
  },
  {
   "cell_type": "markdown",
   "metadata": {},
   "source": [
    "The output for the **text based table** HTML looks like: \n",
    "\n",
    "<table>\n",
    "<thead>\n",
    "<tr><th>Provider  </th><th>Model        </th><th>input price per 1k Token  </th><th>output price per 1K Token  </th><th>input price per 1M Token  </th><th>output price per 1M Token  </th></tr>\n",
    "</thead>\n",
    "<tbody>\n",
    "<tr><td>(Azure)\n",
    "OpenAI           </td><td>GPT-4 (8K)   </td><td>$0.03000                  </td><td>$0.06000                   </td><td>$30.00                    </td><td>$60.00                     </td></tr>\n",
    "<tr><td>          </td><td>GPT-4 Turbo  </td><td>$0.01000                  </td><td>$0.03000                   </td><td>$10.00                    </td><td>$30.00                     </td></tr>\n",
    "<tr><td>          </td><td>GPT-3.5-turbo</td><td>$0.00050                  </td><td>$0.00150                   </td><td>$0.50                     </td><td>$1.50                      </td></tr>\n",
    "<tr><td>Google Vertex AI\n",
    "\n",
    "1 token ~= 4 chars           </td><td>Gemini Pro   </td><td>$0.00100                  </td><td>$0.00200                   </td><td>$1.00                     </td><td>$2.00                      </td></tr>\n",
    "<tr><td>          </td><td>PaLM 2       </td><td>$0.00200                  </td><td>$0.00200                   </td><td>$2.00                     </td><td>$2.00                      </td></tr>\n",
    "</tbody>\n",
    "</table>\n",
    "\n",
    "The corresponding text is: \n",
    "\n",
    "```\n",
    "Provider            Model          input price per 1k Token    output price per 1K Token    input price per 1M Token    output price per 1M Token\n",
    "(Azure)             GPT-4 (8K)     $0.03000                    $0.06000                     $30.00                      $60.00\n",
    "OpenAI\n",
    "                    GPT-4 Turbo    $0.01000                    $0.03000                     $10.00                      $30.00\n",
    "                    GPT-3.5-turbo  $0.00050                    $0.00150                     $0.50                       $1.50\n",
    "Google Vertex AI    Gemini Pro     $0.00100                    $0.00200                     $1.00                       $2.00\n",
    "\n",
    "1 token ~= 4 chars\n",
    "                    PaLM 2         $0.00200                    $0.00200                     $2.00                       $2.00\n",
    "```\n",
    "\n",
    "-------- \n",
    "\n",
    "The output for the **image based table** OCR is empty, no OCR is done in Unstructured"
   ]
  },
  {
   "cell_type": "markdown",
   "metadata": {},
   "source": [
    "## Extraction conclusion \n",
    "\n",
    "- Extracting a table from a PPTX is possible only if the table is in table format. \n",
    "- If the table is in image format, the OCR is not implemented but can be used with Tesseract or other OCR libraries.\n",
    "- Rewriting the HTML table using GPT-4 could be a better solution than using a deterministic approach such as Pandas or BeautifulSoup\n",
    "- The usage of multimodal could be a solution to extract the table from the image format.\n",
    "\n",
    "Notes: \n",
    "\n",
    "- The table extraction for a PDF file is made with PyPDF library and Tesseract. It can be adjusted by the `hi_res_model_name` parameter."
   ]
  },
  {
   "cell_type": "markdown",
   "metadata": {},
   "source": [
    "# GPT 4 - Answer from table "
   ]
  },
  {
   "cell_type": "code",
   "execution_count": 8,
   "metadata": {},
   "outputs": [
    {
     "name": "stderr",
     "output_type": "stream",
     "text": [
      "/Users/florian.bastin/miniconda3/envs/.venv/lib/python3.11/site-packages/langchain_core/utils/utils.py:159: UserWarning: WARNING! kawargs is not default parameter.\n",
      "                kawargs was transferred to model_kwargs.\n",
      "                Please confirm that kawargs is what you intended.\n",
      "  warnings.warn(\n"
     ]
    }
   ],
   "source": [
    "from utils import ask_question\n",
    "from config.llm import GPT_4\n",
    "\n",
    "question = \"Peux-tu trier les LLM des cloud Azure et GCP selon leur coûts par milliers de token ?\"\n",
    "\n",
    "prompt_text_with_html_input = \"\"\"With the following informations:\n",
    "    ----------\n",
    "    {extracted_table}\n",
    "    ----------\n",
    "    Answer the following question:\n",
    "    ----------\n",
    "    {question}\n",
    "    ----------\n",
    "    \"\"\""
   ]
  },
  {
   "cell_type": "markdown",
   "metadata": {},
   "source": [
    "## Text based table\n",
    "### Using the HTML format from the text based table"
   ]
  },
  {
   "cell_type": "code",
   "execution_count": 9,
   "metadata": {},
   "outputs": [],
   "source": [
    "html_formated_table = \"\"\"\n",
    "<table>\n",
    "<thead>\n",
    "<tr><th>Provider  </th><th>Model        </th><th>input price per 1k Token  </th><th>output price per 1K Token  </th><th>input price per 1M Token  </th><th>output price per 1M Token  </th></tr>\n",
    "</thead>\n",
    "<tbody>\n",
    "<tr><td>(Azure)\n",
    "OpenAI           </td><td>GPT-4 (8K)   </td><td>$0.03000                  </td><td>$0.06000                   </td><td>$30.00                    </td><td>$60.00                     </td></tr>\n",
    "<tr><td>          </td><td>GPT-4 Turbo  </td><td>$0.01000                  </td><td>$0.03000                   </td><td>$10.00                    </td><td>$30.00                     </td></tr>\n",
    "<tr><td>          </td><td>GPT-3.5-turbo</td><td>$0.00050                  </td><td>$0.00150                   </td><td>$0.50                     </td><td>$1.50                      </td></tr>\n",
    "<tr><td>Google Vertex AI\n",
    "\n",
    "1 token ~= 4 chars           </td><td>Gemini Pro   </td><td>$0.00100                  </td><td>$0.00200                   </td><td>$1.00                     </td><td>$2.00                      </td></tr>\n",
    "<tr><td>          </td><td>PaLM 2       </td><td>$0.00200                  </td><td>$0.00200                   </td><td>$2.00                     </td><td>$2.00                      </td></tr>\n",
    "</tbody>\n",
    "</table>\n",
    "\"\"\""
   ]
  },
  {
   "cell_type": "code",
   "execution_count": 10,
   "metadata": {},
   "outputs": [
    {
     "name": "stdout",
     "output_type": "stream",
     "text": [
      "Voici les LLM des cloud Azure et GCP triés par leur coût par millier de tokens :\n",
      "\n",
      "1. GPT-3.5-turbo (Azure) : $0.00050 (input), $0.00150 (output)\n",
      "2. Gemini Pro (Google Vertex AI) : $0.00100 (input), $0.00200 (output)\n",
      "3. PaLM 2 (Google Vertex AI) : $0.00200 (input), $0.00200 (output)\n",
      "4. GPT-4 Turbo (Azure) : $0.01000 (input), $0.03000 (output)\n",
      "5. GPT-4 (8K) (Azure) : $0.03000 (input), $0.06000 (output)\n"
     ]
    }
   ],
   "source": [
    "answer = ask_question(\n",
    "    llm=GPT_4,\n",
    "    prompt_text=prompt_text_with_html_input,\n",
    "    extracted_table=html_formated_table,\n",
    "    question=question\n",
    ")\n",
    "\n",
    "print(answer)"
   ]
  },
  {
   "cell_type": "markdown",
   "metadata": {},
   "source": [
    "### Using the extracted text from the text based table"
   ]
  },
  {
   "cell_type": "code",
   "execution_count": 11,
   "metadata": {},
   "outputs": [],
   "source": [
    "text_based_extracted_table = \"\"\"Provider            Model          input price per 1k Token    output price per 1K Token    input price per 1M Token    output price per 1M Token\n",
    "(Azure)             GPT-4 (8K)     $0.03000                    $0.06000                     $30.00                      $60.00\n",
    "OpenAI\n",
    "                    GPT-4 Turbo    $0.01000                    $0.03000                     $10.00                      $30.00\n",
    "                    GPT-3.5-turbo  $0.00050                    $0.00150                     $0.50                       $1.50\n",
    "Google Vertex AI    Gemini Pro     $0.00100                    $0.00200                     $1.00                       $2.00\n",
    "\n",
    "1 token ~= 4 chars\n",
    "                    PaLM 2         $0.00200                    $0.00200                     $2.00                       $2.00\n",
    "\"\"\""
   ]
  },
  {
   "cell_type": "code",
   "execution_count": 12,
   "metadata": {},
   "outputs": [
    {
     "name": "stdout",
     "output_type": "stream",
     "text": [
      "Voici les LLM des cloud Azure et GCP triés par leur coût par millier de tokens :\n",
      "\n",
      "1. Google Vertex AI Gemini Pro : $0.00100 (input) - $0.00200 (output)\n",
      "2. Azure GPT-4 (8K) : $0.03000 (input) - $0.06000 (output)\n",
      "3. OpenAI GPT-4 Turbo : $0.01000 (input) - $0.03000 (output)\n",
      "4. OpenAI GPT-3.5-turbo : $0.00050 (input) - $0.00150 (output)\n",
      "5. PaLM 2 : $0.00200 (input) - $0.00200 (output)\n"
     ]
    }
   ],
   "source": [
    "answer = ask_question(\n",
    "    llm=GPT_4,\n",
    "    prompt_text=prompt_text_with_html_input,\n",
    "    extracted_table=text_based_extracted_table,\n",
    "    question=question\n",
    ")\n",
    "\n",
    "print(answer)"
   ]
  },
  {
   "cell_type": "markdown",
   "metadata": {},
   "source": [
    "The answer is not valid because the structure is lost"
   ]
  },
  {
   "cell_type": "markdown",
   "metadata": {},
   "source": [
    "## Conclusion \n",
    "\n",
    "- Use the HTML format of the table if possible but the extracted text can be used as well\n",
    "- The OCR is not implemented and has to be done with Tesseract or other OCR libraries\n",
    "\n",
    "![Summary](../docs/images/figure3.png)"
   ]
  },
  {
   "cell_type": "markdown",
   "metadata": {},
   "source": []
  }
 ],
 "metadata": {
  "kernelspec": {
   "display_name": ".venv",
   "language": "python",
   "name": "python3"
  },
  "language_info": {
   "codemirror_mode": {
    "name": "ipython",
    "version": 3
   },
   "file_extension": ".py",
   "mimetype": "text/x-python",
   "name": "python",
   "nbconvert_exporter": "python",
   "pygments_lexer": "ipython3",
   "version": "3.11.7"
  }
 },
 "nbformat": 4,
 "nbformat_minor": 2
}
